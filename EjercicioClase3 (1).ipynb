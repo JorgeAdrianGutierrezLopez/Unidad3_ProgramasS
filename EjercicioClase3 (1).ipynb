{
  "metadata": {
    "kernelspec": {
      "name": "python",
      "display_name": "Python (Pyodide)",
      "language": "python"
    },
    "language_info": {
      "codemirror_mode": {
        "name": "python",
        "version": 3
      },
      "file_extension": ".py",
      "mimetype": "text/x-python",
      "name": "python",
      "nbconvert_exporter": "python",
      "pygments_lexer": "ipython3",
      "version": "3.8"
    }
  },
  "nbformat_minor": 4,
  "nbformat": 4,
  "cells": [
    {
      "cell_type": "code",
      "source": "import numpy as np\nimport matplotlib.pyplot as plt\n\n# Parámetro de la distribución Poisson (media de la demanda diaria)\nlambda_poisson = 5  # Por ejemplo, 5 teléfonos móviles por día\n\n# Generar una variable aleatoria uniforme U ~ Uniform(0, 1)\nn = 100  # Número de simulaciones\nU = np.random.uniform(0, 1, n)\n\n# Aplicar la transformada inversa para la distribución Poisson\ndef poisson_inverse_transform(lambda_poisson, U):\n    k = 0\n    F_k = np.exp(-lambda_poisson)  # Primera probabilidad acumulada (k=0)\n    while U > F_k:\n        k += 1\n        F_k += (lambda_poisson**k * np.exp(-lambda_poisson)) / np.math.factorial(k)\n    return k\n\n# Generar demanda simulada usando transformada inversa\ndemanda_simulada = [poisson_inverse_transform(lambda_poisson, u) for u in U]\n\n# Mostrar los resultados\nprint(\"Demanda diaria simulada:\", demanda_simulada)\n\n# Graficar histograma de la demanda simulada\nplt.hist(demanda_simulada, bins=np.arange(0, max(demanda_simulada) + 1) - 0.5, edgecolor='black', density=True)\nplt.title(\"Simulación de demanda diaria (Distribución Poisson)\")\nplt.xlabel(\"Número de productos demandados\")\nplt.ylabel(\"Frecuencia\")\nplt.show()",
      "metadata": {
        "trusted": true
      },
      "outputs": [],
      "execution_count": null
    }
  ]
}