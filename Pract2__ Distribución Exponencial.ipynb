{
  "metadata": {
    "kernelspec": {
      "name": "python",
      "display_name": "Python (Pyodide)",
      "language": "python"
    },
    "language_info": {
      "codemirror_mode": {
        "name": "python",
        "version": 3
      },
      "file_extension": ".py",
      "mimetype": "text/x-python",
      "name": "python",
      "nbconvert_exporter": "python",
      "pygments_lexer": "ipython3",
      "version": "3.8"
    }
  },
  "nbformat_minor": 4,
  "nbformat": 4,
  "cells": [
    {
      "cell_type": "code",
      "source": "import numpy as np\nimport matplotlib.pyplot as plt\n\n\nlambda_llegada = 1 / 15  \nduracion_dia = 12 * 60  \n\n\ntiempos_entre_llegadas = np.random.exponential(1 / lambda_llegada, duracion_dia)\n\n\ntiempos_acumulados = np.cumsum(tiempos_entre_llegadas)\n\n\ntiempos_acumulados = tiempos_acumulados[tiempos_acumulados <= duracion_dia]\n\n\nprint(\"Tiempos entre llegadas (minutos):\", tiempos_entre_llegadas)\nprint(\"Tiempos acumulados de llegada (minutos):\", tiempos_acumulados)\n\n\nplt.plot(tiempos_acumulados, marker='o', linestyle='-', color='skyblue')\nplt.title('Tiempos Acumulados de Llegada de Vehículos Eléctricos')\nplt.xlabel('Número de Llegadas')\nplt.ylabel('Tiempo Acumulado (minutos)')\nplt.axhline(y=duracion_dia, color='r', linestyle='--', label='12 Horas')\nplt.legend()\nplt.grid()\nplt.show()\n",
      "metadata": {
        "trusted": true
      },
      "outputs": [],
      "execution_count": null
    }
  ]
}