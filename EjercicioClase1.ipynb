{
  "metadata": {
    "kernelspec": {
      "name": "python",
      "display_name": "Python (Pyodide)",
      "language": "python"
    },
    "language_info": {
      "codemirror_mode": {
        "name": "python",
        "version": 3
      },
      "file_extension": ".py",
      "mimetype": "text/x-python",
      "name": "python",
      "nbconvert_exporter": "python",
      "pygments_lexer": "ipython3",
      "version": "3.8"
    }
  },
  "nbformat_minor": 4,
  "nbformat": 4,
  "cells": [
    {
      "cell_type": "code",
      "source": "import numpy as np\nimport matplotlib.pyplot as plt\n\n# Parámetro de la distribución exponencial (tasa de servicio)\nlambda_servicio = 1 / 2  # Tiempo promedio de servicio = 2 minutos\n\n# Función para generar un tiempo de servicio\ndef generar_tiempo_servicio(lambda_servicio):\n    u = np.random.uniform(0, 1)  # Generar número aleatorio uniforme\n    tiempo_servicio = -1 / lambda_servicio * np.log(1 - u)  # Aplicar transformada inversa\n    return tiempo_servicio\n\n# Generar 100 tiempos de servicio\ntiempos_servicio = [generar_tiempo_servicio(lambda_servicio) for _ in range(100)]\n\n# Mostrar los tiempos de servicio\nprint(\"Tiempos de servicio generados:\", tiempos_servicio)\n\n# Graficar los tiempos de servicio simulados\nplt.hist(tiempos_servicio, bins=10, edgecolor='black', alpha=0.7)\nplt.title('Distribución de Tiempos de Servicio Simulados (Exponencial)')\nplt.xlabel('Tiempo de servicio (minutos)')\nplt.ylabel('Frecuencia')\nplt.show()",
      "metadata": {
        "trusted": true
      },
      "outputs": [],
      "execution_count": null
    }
  ]
}